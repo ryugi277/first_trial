{
 "cells": [
  {
   "cell_type": "markdown",
   "id": "7045bb47",
   "metadata": {},
   "source": [
    "## Data Exploration Tweet\n",
    "\n",
    "Coded by: Rina Yulius\n",
    "\n",
    "### Objectives\n",
    "\n",
    "1. To get the insight about:\n",
    "a) how many total or comparison of tweets that contain abusive words/hate speech from all the tweets in the dataset (data.csv)?\n",
    "b) who is the target of the hate speech tweets \n",
    "c) what topics are most frequently discussed\n",
    "d) what is the level of hate speech in tweets?\n",
    "2. To visualize the dataset\n"
   ]
  },
  {
   "cell_type": "markdown",
   "id": "4e8d5c29",
   "metadata": {},
   "source": [
    "## Import Library"
   ]
  },
  {
   "cell_type": "code",
   "execution_count": 49,
   "id": "b9523e12",
   "metadata": {},
   "outputs": [],
   "source": [
    "import pandas as pd\n",
    "import sqlite3\n",
    "import numpy as np\n",
    "import matplotlib.pyplot as plt\n",
    "import seaborn as sns\n",
    "import re\n",
    "import plotly.express as px"
   ]
  },
  {
   "cell_type": "markdown",
   "id": "d2c09376",
   "metadata": {},
   "source": [
    "## Read Data Alay"
   ]
  },
  {
   "cell_type": "code",
   "execution_count": 9,
   "id": "dcb6ffad",
   "metadata": {},
   "outputs": [
    {
     "name": "stdout",
     "output_type": "stream",
     "text": [
      "  anakjakartaasikasik anak jakarta asyik asyik\n",
      "0        pakcikdahtua        pak cik sudah tua\n",
      "1      pakcikmudalagi        pak cik muda lagi\n",
      "2         t3tapjokowi             tetap jokowi\n",
      "3                  3x                tiga kali\n",
      "4              aamiin                     amin\n",
      "\n",
      "\n",
      "<class 'pandas.core.frame.DataFrame'>\n",
      "RangeIndex: 15166 entries, 0 to 15165\n",
      "Data columns (total 2 columns):\n",
      " #   Column                    Non-Null Count  Dtype \n",
      "---  ------                    --------------  ----- \n",
      " 0   anakjakartaasikasik       15166 non-null  object\n",
      " 1   anak jakarta asyik asyik  15166 non-null  object\n",
      "dtypes: object(2)\n",
      "memory usage: 237.1+ KB\n",
      "None\n",
      "\n",
      "\n",
      "       anakjakartaasikasik anak jakarta asyik asyik\n",
      "count                15166                    15166\n",
      "unique               15166                     8638\n",
      "top           pakcikdahtua                     wkwk\n",
      "freq                     1                      100\n",
      "\n",
      "\n",
      "anakjakartaasikasik         0\n",
      "anak jakarta asyik asyik    0\n",
      "dtype: int64\n"
     ]
    }
   ],
   "source": [
    "df_alay = pd.read_csv('alay.csv', encoding='latin-1')\n",
    "\n",
    "#print info df_alay\n",
    "print(df_alay.head())\n",
    "print(\"\\n\")\n",
    "print(df_alay.info())\n",
    "print(\"\\n\")\n",
    "print(df_alay.describe())\n",
    "print(\"\\n\")\n",
    "print(df_alay.isnull().sum())"
   ]
  },
  {
   "cell_type": "markdown",
   "id": "bf41777e",
   "metadata": {},
   "source": [
    "## Read Data Abusive"
   ]
  },
  {
   "cell_type": "code",
   "execution_count": 10,
   "id": "829c4c6e",
   "metadata": {},
   "outputs": [
    {
     "name": "stdout",
     "output_type": "stream",
     "text": [
      "   ABUSIVE\n",
      "0     alay\n",
      "1    ampas\n",
      "2     buta\n",
      "3  keparat\n",
      "4   anjing\n",
      "\n",
      "\n",
      "<class 'pandas.core.frame.DataFrame'>\n",
      "RangeIndex: 125 entries, 0 to 124\n",
      "Data columns (total 1 columns):\n",
      " #   Column   Non-Null Count  Dtype \n",
      "---  ------   --------------  ----- \n",
      " 0   ABUSIVE  125 non-null    object\n",
      "dtypes: object(1)\n",
      "memory usage: 1.1+ KB\n",
      "None\n",
      "\n",
      "\n",
      "       ABUSIVE\n",
      "count      125\n",
      "unique     125\n",
      "top       alay\n",
      "freq         1\n",
      "\n",
      "\n",
      "ABUSIVE    0\n",
      "dtype: int64\n"
     ]
    }
   ],
   "source": [
    "df_abusive = pd.read_csv('abusive.csv', encoding='latin-1')\n",
    "\n",
    "#print info df_alay\n",
    "print(df_abusive.head())\n",
    "print(\"\\n\")\n",
    "print(df_abusive.info())\n",
    "print(\"\\n\")\n",
    "print(df_abusive.describe())\n",
    "print(\"\\n\")\n",
    "print(df_abusive.isnull().sum())"
   ]
  },
  {
   "cell_type": "markdown",
   "id": "428e7128",
   "metadata": {},
   "source": [
    "## Read Data Tweet"
   ]
  },
  {
   "cell_type": "code",
   "execution_count": 67,
   "id": "cdfd325a",
   "metadata": {},
   "outputs": [
    {
     "name": "stdout",
     "output_type": "stream",
     "text": [
      "                                               Tweet  HS  Abusive  \\\n",
      "0  - disaat semua cowok berusaha melacak perhatia...   1        1   \n",
      "1  RT USER: USER siapa yang telat ngasih tau elu?...   0        1   \n",
      "2  41. Kadang aku berfikir, kenapa aku tetap perc...   0        0   \n",
      "3  USER USER AKU ITU AKU\\n\\nKU TAU MATAMU SIPIT T...   0        0   \n",
      "4  USER USER Kaum cebong kapir udah keliatan dong...   1        1   \n",
      "\n",
      "   HS_Individual  HS_Group  HS_Religion  HS_Race  HS_Physical  HS_Gender  \\\n",
      "0              1         0            0        0            0          0   \n",
      "1              0         0            0        0            0          0   \n",
      "2              0         0            0        0            0          0   \n",
      "3              0         0            0        0            0          0   \n",
      "4              0         1            1        0            0          0   \n",
      "\n",
      "   HS_Other  HS_Weak  HS_Moderate  HS_Strong  \n",
      "0         1        1            0          0  \n",
      "1         0        0            0          0  \n",
      "2         0        0            0          0  \n",
      "3         0        0            0          0  \n",
      "4         0        0            1          0  \n",
      "\n",
      "\n",
      "<class 'pandas.core.frame.DataFrame'>\n",
      "RangeIndex: 13169 entries, 0 to 13168\n",
      "Data columns (total 13 columns):\n",
      " #   Column         Non-Null Count  Dtype \n",
      "---  ------         --------------  ----- \n",
      " 0   Tweet          13169 non-null  object\n",
      " 1   HS             13169 non-null  int64 \n",
      " 2   Abusive        13169 non-null  int64 \n",
      " 3   HS_Individual  13169 non-null  int64 \n",
      " 4   HS_Group       13169 non-null  int64 \n",
      " 5   HS_Religion    13169 non-null  int64 \n",
      " 6   HS_Race        13169 non-null  int64 \n",
      " 7   HS_Physical    13169 non-null  int64 \n",
      " 8   HS_Gender      13169 non-null  int64 \n",
      " 9   HS_Other       13169 non-null  int64 \n",
      " 10  HS_Weak        13169 non-null  int64 \n",
      " 11  HS_Moderate    13169 non-null  int64 \n",
      " 12  HS_Strong      13169 non-null  int64 \n",
      "dtypes: int64(12), object(1)\n",
      "memory usage: 1.3+ MB\n",
      "None\n",
      "\n",
      "\n",
      "                 HS       Abusive  HS_Individual      HS_Group   HS_Religion  \\\n",
      "count  13169.000000  13169.000000   13169.000000  13169.000000  13169.000000   \n",
      "mean       0.422280      0.382945       0.271471      0.150809      0.060217   \n",
      "std        0.493941      0.486123       0.444735      0.357876      0.237898   \n",
      "min        0.000000      0.000000       0.000000      0.000000      0.000000   \n",
      "25%        0.000000      0.000000       0.000000      0.000000      0.000000   \n",
      "50%        0.000000      0.000000       0.000000      0.000000      0.000000   \n",
      "75%        1.000000      1.000000       1.000000      0.000000      0.000000   \n",
      "max        1.000000      1.000000       1.000000      1.000000      1.000000   \n",
      "\n",
      "            HS_Race   HS_Physical     HS_Gender      HS_Other       HS_Weak  \\\n",
      "count  13169.000000  13169.000000  13169.000000  13169.000000  13169.000000   \n",
      "mean       0.042980      0.024527      0.023236      0.284000      0.256891   \n",
      "std        0.202819      0.154685      0.150659      0.450954      0.436935   \n",
      "min        0.000000      0.000000      0.000000      0.000000      0.000000   \n",
      "25%        0.000000      0.000000      0.000000      0.000000      0.000000   \n",
      "50%        0.000000      0.000000      0.000000      0.000000      0.000000   \n",
      "75%        0.000000      0.000000      0.000000      1.000000      1.000000   \n",
      "max        1.000000      1.000000      1.000000      1.000000      1.000000   \n",
      "\n",
      "        HS_Moderate     HS_Strong  \n",
      "count  13169.000000  13169.000000  \n",
      "mean       0.129471      0.035918  \n",
      "std        0.335733      0.186092  \n",
      "min        0.000000      0.000000  \n",
      "25%        0.000000      0.000000  \n",
      "50%        0.000000      0.000000  \n",
      "75%        0.000000      0.000000  \n",
      "max        1.000000      1.000000  \n",
      "\n",
      "\n",
      "Tweet            0\n",
      "HS               0\n",
      "Abusive          0\n",
      "HS_Individual    0\n",
      "HS_Group         0\n",
      "HS_Religion      0\n",
      "HS_Race          0\n",
      "HS_Physical      0\n",
      "HS_Gender        0\n",
      "HS_Other         0\n",
      "HS_Weak          0\n",
      "HS_Moderate      0\n",
      "HS_Strong        0\n",
      "dtype: int64\n"
     ]
    },
    {
     "data": {
      "text/plain": [
       "0"
      ]
     },
     "execution_count": 67,
     "metadata": {},
     "output_type": "execute_result"
    }
   ],
   "source": [
    "df_tweet = pd.read_csv('data.csv', encoding='latin-1')\n",
    "#print info\n",
    "print(df_tweet.head())\n",
    "print(\"\\n\")\n",
    "print(df_tweet.info())\n",
    "print(\"\\n\")\n",
    "print(df_tweet.describe())\n",
    "print(\"\\n\")\n",
    "print(df_tweet.isnull().sum())\n",
    "\n",
    "# Remove duplicated data\n",
    "\n",
    "df_tweet = df_tweet.drop_duplicates()\n",
    "\n",
    "# Sanity check\n",
    "\n",
    "df_tweet.duplicated().sum()"
   ]
  },
  {
   "cell_type": "markdown",
   "id": "81965097",
   "metadata": {},
   "source": [
    "## Data Manipulation"
   ]
  },
  {
   "cell_type": "code",
   "execution_count": 68,
   "id": "6dc25804",
   "metadata": {},
   "outputs": [
    {
     "data": {
      "text/plain": [
       "range(0, 13044)"
      ]
     },
     "execution_count": 68,
     "metadata": {},
     "output_type": "execute_result"
    }
   ],
   "source": [
    "range(df_tweet.shape[0])"
   ]
  },
  {
   "cell_type": "code",
   "execution_count": 69,
   "id": "6398933e",
   "metadata": {},
   "outputs": [
    {
     "data": {
      "text/html": [
       "<div>\n",
       "<style scoped>\n",
       "    .dataframe tbody tr th:only-of-type {\n",
       "        vertical-align: middle;\n",
       "    }\n",
       "\n",
       "    .dataframe tbody tr th {\n",
       "        vertical-align: top;\n",
       "    }\n",
       "\n",
       "    .dataframe thead th {\n",
       "        text-align: right;\n",
       "    }\n",
       "</style>\n",
       "<table border=\"1\" class=\"dataframe\">\n",
       "  <thead>\n",
       "    <tr style=\"text-align: right;\">\n",
       "      <th></th>\n",
       "      <th>HS</th>\n",
       "      <th>Abusive</th>\n",
       "      <th>HS_Individual</th>\n",
       "      <th>HS_Group</th>\n",
       "      <th>HS_Religion</th>\n",
       "      <th>HS_Race</th>\n",
       "      <th>HS_Physical</th>\n",
       "      <th>HS_Gender</th>\n",
       "      <th>HS_Other</th>\n",
       "      <th>HS_Weak</th>\n",
       "      <th>HS_Moderate</th>\n",
       "      <th>HS_Strong</th>\n",
       "    </tr>\n",
       "  </thead>\n",
       "  <tbody>\n",
       "    <tr>\n",
       "      <th>0</th>\n",
       "      <td>1</td>\n",
       "      <td>1</td>\n",
       "      <td>1</td>\n",
       "      <td>0</td>\n",
       "      <td>0</td>\n",
       "      <td>0</td>\n",
       "      <td>0</td>\n",
       "      <td>0</td>\n",
       "      <td>1</td>\n",
       "      <td>1</td>\n",
       "      <td>0</td>\n",
       "      <td>0</td>\n",
       "    </tr>\n",
       "    <tr>\n",
       "      <th>1</th>\n",
       "      <td>0</td>\n",
       "      <td>1</td>\n",
       "      <td>0</td>\n",
       "      <td>0</td>\n",
       "      <td>0</td>\n",
       "      <td>0</td>\n",
       "      <td>0</td>\n",
       "      <td>0</td>\n",
       "      <td>0</td>\n",
       "      <td>0</td>\n",
       "      <td>0</td>\n",
       "      <td>0</td>\n",
       "    </tr>\n",
       "    <tr>\n",
       "      <th>2</th>\n",
       "      <td>0</td>\n",
       "      <td>0</td>\n",
       "      <td>0</td>\n",
       "      <td>0</td>\n",
       "      <td>0</td>\n",
       "      <td>0</td>\n",
       "      <td>0</td>\n",
       "      <td>0</td>\n",
       "      <td>0</td>\n",
       "      <td>0</td>\n",
       "      <td>0</td>\n",
       "      <td>0</td>\n",
       "    </tr>\n",
       "    <tr>\n",
       "      <th>3</th>\n",
       "      <td>0</td>\n",
       "      <td>0</td>\n",
       "      <td>0</td>\n",
       "      <td>0</td>\n",
       "      <td>0</td>\n",
       "      <td>0</td>\n",
       "      <td>0</td>\n",
       "      <td>0</td>\n",
       "      <td>0</td>\n",
       "      <td>0</td>\n",
       "      <td>0</td>\n",
       "      <td>0</td>\n",
       "    </tr>\n",
       "    <tr>\n",
       "      <th>4</th>\n",
       "      <td>1</td>\n",
       "      <td>1</td>\n",
       "      <td>0</td>\n",
       "      <td>1</td>\n",
       "      <td>1</td>\n",
       "      <td>0</td>\n",
       "      <td>0</td>\n",
       "      <td>0</td>\n",
       "      <td>0</td>\n",
       "      <td>0</td>\n",
       "      <td>1</td>\n",
       "      <td>0</td>\n",
       "    </tr>\n",
       "  </tbody>\n",
       "</table>\n",
       "</div>"
      ],
      "text/plain": [
       "   HS  Abusive  HS_Individual  HS_Group  HS_Religion  HS_Race  HS_Physical  \\\n",
       "0   1        1              1         0            0        0            0   \n",
       "1   0        1              0         0            0        0            0   \n",
       "2   0        0              0         0            0        0            0   \n",
       "3   0        0              0         0            0        0            0   \n",
       "4   1        1              0         1            1        0            0   \n",
       "\n",
       "   HS_Gender  HS_Other  HS_Weak  HS_Moderate  HS_Strong  \n",
       "0          0         1        1            0          0  \n",
       "1          0         0        0            0          0  \n",
       "2          0         0        0            0          0  \n",
       "3          0         0        0            0          0  \n",
       "4          0         0        0            1          0  "
      ]
     },
     "execution_count": 69,
     "metadata": {},
     "output_type": "execute_result"
    }
   ],
   "source": [
    "df_tweet_filtered = df_tweet.drop('Tweet', axis=1, inplace= False)\n",
    "df_tweet_filtered.head()"
   ]
  },
  {
   "cell_type": "markdown",
   "id": "738fa1c3",
   "metadata": {},
   "source": [
    "## Classify the Tweet\n",
    "\n",
    "if the tweet is considered as hate speech then label as 1, else 0"
   ]
  },
  {
   "cell_type": "code",
   "execution_count": 70,
   "id": "6818f07b",
   "metadata": {},
   "outputs": [
    {
     "data": {
      "text/html": [
       "<div>\n",
       "<style scoped>\n",
       "    .dataframe tbody tr th:only-of-type {\n",
       "        vertical-align: middle;\n",
       "    }\n",
       "\n",
       "    .dataframe tbody tr th {\n",
       "        vertical-align: top;\n",
       "    }\n",
       "\n",
       "    .dataframe thead th {\n",
       "        text-align: right;\n",
       "    }\n",
       "</style>\n",
       "<table border=\"1\" class=\"dataframe\">\n",
       "  <thead>\n",
       "    <tr style=\"text-align: right;\">\n",
       "      <th></th>\n",
       "      <th>Tweet</th>\n",
       "      <th>HS</th>\n",
       "      <th>Abusive</th>\n",
       "      <th>HS_Individual</th>\n",
       "      <th>HS_Group</th>\n",
       "      <th>HS_Religion</th>\n",
       "      <th>HS_Race</th>\n",
       "      <th>HS_Physical</th>\n",
       "      <th>HS_Gender</th>\n",
       "      <th>HS_Other</th>\n",
       "      <th>HS_Weak</th>\n",
       "      <th>HS_Moderate</th>\n",
       "      <th>HS_Strong</th>\n",
       "      <th>Tipe klasifikasi HS</th>\n",
       "      <th>Tipe klasifikasi Abusive</th>\n",
       "    </tr>\n",
       "  </thead>\n",
       "  <tbody>\n",
       "    <tr>\n",
       "      <th>0</th>\n",
       "      <td>- disaat semua cowok berusaha melacak perhatia...</td>\n",
       "      <td>1</td>\n",
       "      <td>1</td>\n",
       "      <td>1</td>\n",
       "      <td>0</td>\n",
       "      <td>0</td>\n",
       "      <td>0</td>\n",
       "      <td>0</td>\n",
       "      <td>0</td>\n",
       "      <td>1</td>\n",
       "      <td>1</td>\n",
       "      <td>0</td>\n",
       "      <td>0</td>\n",
       "      <td>Yes</td>\n",
       "      <td>Yes</td>\n",
       "    </tr>\n",
       "    <tr>\n",
       "      <th>1</th>\n",
       "      <td>RT USER: USER siapa yang telat ngasih tau elu?...</td>\n",
       "      <td>0</td>\n",
       "      <td>1</td>\n",
       "      <td>0</td>\n",
       "      <td>0</td>\n",
       "      <td>0</td>\n",
       "      <td>0</td>\n",
       "      <td>0</td>\n",
       "      <td>0</td>\n",
       "      <td>0</td>\n",
       "      <td>0</td>\n",
       "      <td>0</td>\n",
       "      <td>0</td>\n",
       "      <td>No</td>\n",
       "      <td>Yes</td>\n",
       "    </tr>\n",
       "    <tr>\n",
       "      <th>2</th>\n",
       "      <td>41. Kadang aku berfikir, kenapa aku tetap perc...</td>\n",
       "      <td>0</td>\n",
       "      <td>0</td>\n",
       "      <td>0</td>\n",
       "      <td>0</td>\n",
       "      <td>0</td>\n",
       "      <td>0</td>\n",
       "      <td>0</td>\n",
       "      <td>0</td>\n",
       "      <td>0</td>\n",
       "      <td>0</td>\n",
       "      <td>0</td>\n",
       "      <td>0</td>\n",
       "      <td>No</td>\n",
       "      <td>No</td>\n",
       "    </tr>\n",
       "    <tr>\n",
       "      <th>3</th>\n",
       "      <td>USER USER AKU ITU AKU\\n\\nKU TAU MATAMU SIPIT T...</td>\n",
       "      <td>0</td>\n",
       "      <td>0</td>\n",
       "      <td>0</td>\n",
       "      <td>0</td>\n",
       "      <td>0</td>\n",
       "      <td>0</td>\n",
       "      <td>0</td>\n",
       "      <td>0</td>\n",
       "      <td>0</td>\n",
       "      <td>0</td>\n",
       "      <td>0</td>\n",
       "      <td>0</td>\n",
       "      <td>No</td>\n",
       "      <td>No</td>\n",
       "    </tr>\n",
       "    <tr>\n",
       "      <th>4</th>\n",
       "      <td>USER USER Kaum cebong kapir udah keliatan dong...</td>\n",
       "      <td>1</td>\n",
       "      <td>1</td>\n",
       "      <td>0</td>\n",
       "      <td>1</td>\n",
       "      <td>1</td>\n",
       "      <td>0</td>\n",
       "      <td>0</td>\n",
       "      <td>0</td>\n",
       "      <td>0</td>\n",
       "      <td>0</td>\n",
       "      <td>1</td>\n",
       "      <td>0</td>\n",
       "      <td>Yes</td>\n",
       "      <td>Yes</td>\n",
       "    </tr>\n",
       "  </tbody>\n",
       "</table>\n",
       "</div>"
      ],
      "text/plain": [
       "                                               Tweet  HS  Abusive  \\\n",
       "0  - disaat semua cowok berusaha melacak perhatia...   1        1   \n",
       "1  RT USER: USER siapa yang telat ngasih tau elu?...   0        1   \n",
       "2  41. Kadang aku berfikir, kenapa aku tetap perc...   0        0   \n",
       "3  USER USER AKU ITU AKU\\n\\nKU TAU MATAMU SIPIT T...   0        0   \n",
       "4  USER USER Kaum cebong kapir udah keliatan dong...   1        1   \n",
       "\n",
       "   HS_Individual  HS_Group  HS_Religion  HS_Race  HS_Physical  HS_Gender  \\\n",
       "0              1         0            0        0            0          0   \n",
       "1              0         0            0        0            0          0   \n",
       "2              0         0            0        0            0          0   \n",
       "3              0         0            0        0            0          0   \n",
       "4              0         1            1        0            0          0   \n",
       "\n",
       "   HS_Other  HS_Weak  HS_Moderate  HS_Strong Tipe klasifikasi HS  \\\n",
       "0         1        1            0          0                 Yes   \n",
       "1         0        0            0          0                  No   \n",
       "2         0        0            0          0                  No   \n",
       "3         0        0            0          0                  No   \n",
       "4         0        0            1          0                 Yes   \n",
       "\n",
       "  Tipe klasifikasi Abusive  \n",
       "0                      Yes  \n",
       "1                      Yes  \n",
       "2                       No  \n",
       "3                       No  \n",
       "4                      Yes  "
      ]
     },
     "execution_count": 70,
     "metadata": {},
     "output_type": "execute_result"
    }
   ],
   "source": [
    "def classify(HS):\n",
    "    if (HS == 1):\n",
    "        return 'Yes'\n",
    "    elif (HS == 0):\n",
    "        return 'No'\n",
    "\n",
    "def classify(Abusive):\n",
    "    if (Abusive == 1):\n",
    "        return 'Yes'\n",
    "    elif (Abusive == 0):\n",
    "        return 'No'\n",
    "    \n",
    "df_tweet['Tipe klasifikasi HS'] = df_tweet['HS'].apply(lambda x: classify(x))\n",
    "df_tweet['Tipe klasifikasi Abusive']= df_tweet['Abusive'].apply(lambda x: classify(x))\n",
    "df_tweet.head()"
   ]
  },
  {
   "cell_type": "code",
   "execution_count": 71,
   "id": "c281006d",
   "metadata": {},
   "outputs": [
    {
     "data": {
      "text/html": [
       "<div>\n",
       "<style scoped>\n",
       "    .dataframe tbody tr th:only-of-type {\n",
       "        vertical-align: middle;\n",
       "    }\n",
       "\n",
       "    .dataframe tbody tr th {\n",
       "        vertical-align: top;\n",
       "    }\n",
       "\n",
       "    .dataframe thead th {\n",
       "        text-align: right;\n",
       "    }\n",
       "</style>\n",
       "<table border=\"1\" class=\"dataframe\">\n",
       "  <thead>\n",
       "    <tr style=\"text-align: right;\">\n",
       "      <th></th>\n",
       "      <th>Tweet</th>\n",
       "      <th>HS</th>\n",
       "      <th>Abusive</th>\n",
       "      <th>Tipe klasifikasi HS</th>\n",
       "      <th>Tipe klasifikasi Abusive</th>\n",
       "    </tr>\n",
       "  </thead>\n",
       "  <tbody>\n",
       "    <tr>\n",
       "      <th>0</th>\n",
       "      <td>- disaat semua cowok berusaha melacak perhatia...</td>\n",
       "      <td>1</td>\n",
       "      <td>1</td>\n",
       "      <td>Yes</td>\n",
       "      <td>Yes</td>\n",
       "    </tr>\n",
       "    <tr>\n",
       "      <th>1</th>\n",
       "      <td>RT USER: USER siapa yang telat ngasih tau elu?...</td>\n",
       "      <td>0</td>\n",
       "      <td>1</td>\n",
       "      <td>No</td>\n",
       "      <td>Yes</td>\n",
       "    </tr>\n",
       "    <tr>\n",
       "      <th>2</th>\n",
       "      <td>41. Kadang aku berfikir, kenapa aku tetap perc...</td>\n",
       "      <td>0</td>\n",
       "      <td>0</td>\n",
       "      <td>No</td>\n",
       "      <td>No</td>\n",
       "    </tr>\n",
       "    <tr>\n",
       "      <th>3</th>\n",
       "      <td>USER USER AKU ITU AKU\\n\\nKU TAU MATAMU SIPIT T...</td>\n",
       "      <td>0</td>\n",
       "      <td>0</td>\n",
       "      <td>No</td>\n",
       "      <td>No</td>\n",
       "    </tr>\n",
       "    <tr>\n",
       "      <th>4</th>\n",
       "      <td>USER USER Kaum cebong kapir udah keliatan dong...</td>\n",
       "      <td>1</td>\n",
       "      <td>1</td>\n",
       "      <td>Yes</td>\n",
       "      <td>Yes</td>\n",
       "    </tr>\n",
       "  </tbody>\n",
       "</table>\n",
       "</div>"
      ],
      "text/plain": [
       "                                               Tweet  HS  Abusive  \\\n",
       "0  - disaat semua cowok berusaha melacak perhatia...   1        1   \n",
       "1  RT USER: USER siapa yang telat ngasih tau elu?...   0        1   \n",
       "2  41. Kadang aku berfikir, kenapa aku tetap perc...   0        0   \n",
       "3  USER USER AKU ITU AKU\\n\\nKU TAU MATAMU SIPIT T...   0        0   \n",
       "4  USER USER Kaum cebong kapir udah keliatan dong...   1        1   \n",
       "\n",
       "  Tipe klasifikasi HS Tipe klasifikasi Abusive  \n",
       "0                 Yes                      Yes  \n",
       "1                  No                      Yes  \n",
       "2                  No                       No  \n",
       "3                  No                       No  \n",
       "4                 Yes                      Yes  "
      ]
     },
     "execution_count": 71,
     "metadata": {},
     "output_type": "execute_result"
    }
   ],
   "source": [
    "classify = df_tweet[[\"Tweet\", \"HS\", \"Abusive\", \"Tipe klasifikasi HS\", \"Tipe klasifikasi Abusive\"]]\n",
    "classify.head()"
   ]
  },
  {
   "cell_type": "code",
   "execution_count": 72,
   "id": "f158b04e",
   "metadata": {},
   "outputs": [
    {
     "data": {
      "text/plain": [
       "No     7526\n",
       "Yes    5518\n",
       "Name: Tipe klasifikasi HS, dtype: int64"
      ]
     },
     "execution_count": 72,
     "metadata": {},
     "output_type": "execute_result"
    }
   ],
   "source": [
    "classify['Tipe klasifikasi HS'].value_counts()"
   ]
  },
  {
   "cell_type": "markdown",
   "id": "c46cbb8c",
   "metadata": {},
   "source": [
    "## Create the Visualization\n",
    "\n",
    "create diagram based on the classification (whether the tweet consists hate speech/abusive or not)"
   ]
  },
  {
   "cell_type": "code",
   "execution_count": 81,
   "id": "d0c8621d",
   "metadata": {},
   "outputs": [
    {
     "data": {
      "image/png": "[encoded data removed]",
      "text/plain": [
       "<Figure size 360x360 with 1 Axes>"
      ]
     },
     "metadata": {},
     "output_type": "display_data"
    }
   ],
   "source": [
    "classify['Tipe klasifikasi HS'].value_counts().plot(kind='pie', figsize=(5,5), autopct='%1.f%%', startangle=90, shadow=True, colors = ['magenta','pink'])\n",
    "\n",
    "plt.legend(['No', 'Yes'])\n",
    "plt.title('Tweet Classification on Twitter Dataset - Abusive or Not', loc='center',color='magenta', fontweight='bold')\n",
    "\n",
    "plt.show()"
   ]
  },
  {
   "cell_type": "code",
   "execution_count": 43,
   "id": "8de6f13a",
   "metadata": {},
   "outputs": [
    {
     "data": {
      "text/plain": [
       "Tweet            - disaat semua cowok berusaha melacak perhatia...\n",
       "HS                                                            5561\n",
       "HS_Individual                                                 3575\n",
       "HS_Group                                                      1986\n",
       "HS_Religion                                                    793\n",
       "HS_Race                                                        566\n",
       "HS_Physical                                                    323\n",
       "HS_Gender                                                      306\n",
       "HS_Other                                                      3740\n",
       "HS_Weak                                                       3383\n",
       "HS_Moderate                                                   1705\n",
       "HS_Strong                                                      473\n",
       "dtype: object"
      ]
     },
     "execution_count": 43,
     "metadata": {},
     "output_type": "execute_result"
    }
   ],
   "source": [
    "#Type of Abusive Tweet\n",
    "\n",
    "type_HS = df_tweet[[\"Tweet\", \"HS\", \"HS_Individual\", \"HS_Group\", \"HS_Religion\", \"HS_Race\", \"HS_Physical\", \"HS_Gender\", \"HS_Other\", \"HS_Weak\", \"HS_Moderate\", \"HS_Strong\"]]\n",
    "type_HS.sum() "
   ]
  },
  {
   "cell_type": "code",
   "execution_count": 76,
   "id": "863a6d37",
   "metadata": {},
   "outputs": [],
   "source": [
    "# Create new column for negative tweet target\n",
    "\n",
    "def target(x):\n",
    "    if x['HS_Individual'] == 1 and x['HS_Group'] == 1:\n",
    "        return 'Both'\n",
    "    elif x['HS_Individual'] == 1 and x['HS_Group'] == 0:\n",
    "        return 'Individual'\n",
    "    elif x['HS_Individual'] == 0 and x['HS_Group'] == 1:\n",
    "        return 'Group'\n",
    "    else:\n",
    "        return 'None'\n",
    "\n",
    "df_tweet['Target'] = df_tweet.apply(target, axis=1)"
   ]
  },
  {
   "cell_type": "code",
   "execution_count": 77,
   "id": "4e045901",
   "metadata": {},
   "outputs": [
    {
     "data": {
      "text/plain": [
       "Individual    3540\n",
       "Group         1978\n",
       "Name: Target, dtype: int64"
      ]
     },
     "execution_count": 77,
     "metadata": {},
     "output_type": "execute_result"
    }
   ],
   "source": [
    "# Tweet target classification\n",
    "\n",
    "filter = df_tweet['Target'] == 'None'\n",
    "df_tweet[~filter]['Target'].value_counts()"
   ]
  },
  {
   "cell_type": "code",
   "execution_count": 92,
   "id": "50d74297",
   "metadata": {},
   "outputs": [
    {
     "data": {
      "image/png": "[encoded data removed]",
      "text/plain": [
       "<Figure size 432x288 with 1 Axes>"
      ]
     },
     "metadata": {},
     "output_type": "display_data"
    }
   ],
   "source": [
    "# Visualization\n",
    "\n",
    "df_tweet[~filter]['Target'].value_counts().plot.pie(autopct='%1.0f%%', colors = ['magenta','pink'])\n",
    "plt.show()"
   ]
  },
  {
   "cell_type": "code",
   "execution_count": 79,
   "id": "9f9866a4",
   "metadata": {},
   "outputs": [
    {
     "data": {
      "image/png": "[encoded data removed]",
      "text/plain": [
       "<Figure size 432x504 with 1 Axes>"
      ]
     },
     "metadata": {
      "needs_background": "light"
     },
     "output_type": "display_data"
    }
   ],
   "source": [
    "%matplotlib inline\n",
    "target_HS = (\"Individual\", \"Group\")\n",
    "HS1 = (3575, 1986)\n",
    "\n",
    "plt.figure(figsize=(6,7))\n",
    "plt.bar(target_HS, HS1, color='magenta')\n",
    "\n",
    "plt.title('Hate Speech Target', size=18, fontweight='bold', color='magenta')\n",
    "plt.ylabel('Sum', size=12, color='magenta')\n",
    "plt.xticks(size=12, color='magenta')\n",
    "plt.yticks(size=12, color='magenta')\n",
    "\n",
    "plt.show()\n"
   ]
  },
  {
   "cell_type": "markdown",
   "id": "b393a842",
   "metadata": {},
   "source": [
    "## Topic and Level of Negative Tweets That Most Discussed"
   ]
  },
  {
   "cell_type": "code",
   "execution_count": 102,
   "id": "88b33d39",
   "metadata": {},
   "outputs": [
    {
     "data": {
      "image/png": "[encoded data removed]",
      "text/plain": [
       "<Figure size 864x504 with 1 Axes>"
      ]
     },
     "metadata": {
      "needs_background": "light"
     },
     "output_type": "display_data"
    }
   ],
   "source": [
    "#Type of hatespeech\n",
    "\n",
    "%matplotlib inline\n",
    "\n",
    "type_HS = [\"HS_Religion\", \"HS_Race\", \"HS_Physical\", \"HS_Gender\", \"HS_Other\"]\n",
    "count = [793, 566, 323, 306, 3740]\n",
    "\n",
    "\n",
    "plt.figure(figsize=(12,7))\n",
    "plt.bar(type_HS, count, color='magenta')\n",
    "\n",
    "plt.title('Type of Hate Speech in Twitter', size=18, fontweight='bold', color='magenta')\n",
    "plt.ylabel('Sum', size=14, color='magenta')\n",
    "plt.xticks(size=12, color='magenta')\n",
    "plt.yticks(size=12, color='magenta')\n",
    "\n",
    "plt.show()"
   ]
  },
  {
   "cell_type": "markdown",
   "id": "a43c222c",
   "metadata": {},
   "source": [
    "Visualize the power of hate speech"
   ]
  },
  {
   "cell_type": "code",
   "execution_count": 56,
   "id": "99b331fc",
   "metadata": {},
   "outputs": [
    {
     "data": {
      "image/png": "[encoded data removed]",
      "text/plain": [
       "<Figure size 864x504 with 1 Axes>"
      ]
     },
     "metadata": {
      "needs_background": "light"
     },
     "output_type": "display_data"
    }
   ],
   "source": [
    "%matplotlib inline\n",
    "\n",
    "power_HS = [\"Weak\", \"Moderate\", \"Strong\"]\n",
    "phs = [3383, 1705, 473]\n",
    "\n",
    "\n",
    "plt.figure(figsize=(12,7))\n",
    "plt.bar(power_HS, phs, color='magenta')\n",
    "\n",
    "plt.title('Hate Speech Power', size=18, color='magenta', fontweight='bold')\n",
    "plt.ylabel('HS Power', size=14, color='magenta')\n",
    "plt.xticks(size=12, color='magenta')\n",
    "plt.yticks(size=12, color='magenta')\n",
    "\n",
    "plt.show()"
   ]
  },
  {
   "cell_type": "code",
   "execution_count": 66,
   "id": "a2e67280",
   "metadata": {},
   "outputs": [
    {
     "data": {
      "image/png": "[encoded data removed]",
      "text/plain": [
       "<Figure size 576x432 with 2 Axes>"
      ]
     },
     "metadata": {
      "needs_background": "light"
     },
     "output_type": "display_data"
    }
   ],
   "source": [
    "#visualize the correlation using heatmap\n",
    "type_HS = df_tweet[[\"HS_Individual\", \"HS_Group\", \"HS_Religion\", \"HS_Race\", \"HS_Physical\", \"HS_Gender\", \"HS_Other\"]]\n",
    "corr = type_HS.corr()\n",
    " \n",
    "# Heatmap\n",
    "plt.figure(figsize=(8,6))\n",
    "sns.heatmap(type_HS.corr(), annot=True)\n",
    "\n",
    "plt.title('Hate Speech Type Correlation in Twitter Dataset', size = 16, color='magenta')\n",
    "\n",
    "plt.show()"
   ]
  },
  {
   "cell_type": "code",
   "execution_count": null,
   "id": "605ec818",
   "metadata": {},
   "outputs": [],
   "source": []
  }
 ],
 "metadata": {
  "kernelspec": {
   "display_name": "Python 3",
   "language": "python",
   "name": "python3"
  },
  "language_info": {
   "codemirror_mode": {
    "name": "ipython",
    "version": 3
   },
   "file_extension": ".py",
   "mimetype": "text/x-python",
   "name": "python",
   "nbconvert_exporter": "python",
   "pygments_lexer": "ipython3",
   "version": "3.8.8"
  }
 },
 "nbformat": 4,
 "nbformat_minor": 5
}
